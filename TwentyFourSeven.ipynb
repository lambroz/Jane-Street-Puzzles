{
 "cells": [
  {
   "cell_type": "code",
   "execution_count": 1,
   "metadata": {},
   "outputs": [],
   "source": [
    "import numpy as np\n",
    "from copy import deepcopy\n",
    "from scipy import ndimage"
   ]
  },
  {
   "cell_type": "code",
   "execution_count": 2,
   "metadata": {},
   "outputs": [
    {
     "name": "stdout",
     "output_type": "stream",
     "text": [
      "[[nan nan  4. nan nan nan nan]\n",
      " [nan nan nan  6. nan nan nan]\n",
      " [ 5. nan nan nan nan nan nan]\n",
      " [nan  3. nan nan nan  6. nan]\n",
      " [nan nan nan nan nan nan  2.]\n",
      " [nan nan nan  1. nan nan nan]\n",
      " [nan nan nan nan  4. nan nan]]\n"
     ]
    }
   ],
   "source": [
    "grid1 = [[np.nan,np.nan,4,np.nan,np.nan,np.nan,np.nan],\n",
    "         [np.nan,np.nan,np.nan,6,np.nan,np.nan,np.nan],\n",
    "         [5,np.nan,np.nan,np.nan,np.nan,np.nan,np.nan],\n",
    "         [np.nan,3,np.nan,np.nan,np.nan,6,np.nan],\n",
    "         [np.nan,np.nan,np.nan,np.nan,np.nan,np.nan,2],\n",
    "         [np.nan,np.nan,np.nan,1,np.nan,np.nan,np.nan],\n",
    "         [np.nan,np.nan,np.nan,np.nan,4,np.nan,np.nan]]\n",
    "grid1 = np.matrix(grid1)\n",
    "print(grid1)\n",
    "\n",
    "topfirst1 =    [5,4,None,None,None,7,5]\n",
    "bottomfirst1 = [5,7,None,None,None,3,6]\n",
    "leftfirst1 =   [5,7,None,None,None,5,7]\n",
    "rightfirst1 =  [7,4,None,None,None,7,6]"
   ]
  },
  {
   "cell_type": "code",
   "execution_count": 3,
   "metadata": {},
   "outputs": [
    {
     "name": "stdout",
     "output_type": "stream",
     "text": [
      "[[nan  2. nan nan nan nan nan]\n",
      " [ 2. nan nan nan nan nan nan]\n",
      " [nan nan nan nan nan nan nan]\n",
      " [nan nan nan nan nan  3. nan]\n",
      " [nan nan nan nan  3. nan nan]\n",
      " [nan nan nan  3. nan nan nan]\n",
      " [nan nan nan nan nan nan  1.]]\n"
     ]
    }
   ],
   "source": [
    "grid2 = [[np.nan,2,np.nan,np.nan,np.nan,np.nan,np.nan],\n",
    "         [2,np.nan,np.nan,np.nan,np.nan,np.nan,np.nan],\n",
    "         [np.nan,np.nan,np.nan,np.nan,np.nan,np.nan,np.nan],\n",
    "         [np.nan,np.nan,np.nan,np.nan,np.nan,3,np.nan],\n",
    "         [np.nan,np.nan,np.nan,np.nan,3,np.nan,np.nan],\n",
    "         [np.nan,np.nan,np.nan,3,np.nan,np.nan,np.nan],\n",
    "         [np.nan,np.nan,np.nan,np.nan,np.nan,np.nan,1]]\n",
    "grid2 = np.matrix(grid2)\n",
    "print(grid2)\n",
    "\n",
    "topfirst2 =    [None,None,5,6,None,6,7]\n",
    "bottomfirst2 = [6,7,5,None,None,None,None]\n",
    "leftfirst2 =   [None,None,5,6,None,7,6]\n",
    "rightfirst2 =  [6,6,4,None,None,None,None]"
   ]
  },
  {
   "cell_type": "code",
   "execution_count": 4,
   "metadata": {},
   "outputs": [
    {
     "name": "stdout",
     "output_type": "stream",
     "text": [
      "[[nan nan nan nan  4. nan nan]\n",
      " [nan  6. nan nan nan nan nan]\n",
      " [ 4. nan nan nan nan nan  6.]\n",
      " [nan nan nan nan nan nan nan]\n",
      " [ 6. nan nan nan nan nan  4.]\n",
      " [nan nan nan nan nan  6. nan]\n",
      " [nan nan  4. nan nan nan nan]]\n"
     ]
    }
   ],
   "source": [
    "grid3 = [[np.nan,np.nan,np.nan,np.nan,4,np.nan,np.nan],\n",
    "         [np.nan,6,np.nan,np.nan,np.nan,np.nan,np.nan],\n",
    "         [4,np.nan,np.nan,np.nan,np.nan,np.nan,6],\n",
    "         [np.nan,np.nan,np.nan,np.nan,np.nan,np.nan,np.nan],\n",
    "         [6,np.nan,np.nan,np.nan,np.nan,np.nan,4],\n",
    "         [np.nan,np.nan,np.nan,np.nan,np.nan,6,np.nan],\n",
    "         [np.nan,np.nan,4,np.nan,np.nan,np.nan,np.nan]]\n",
    "grid3 = np.matrix(grid3)\n",
    "print(grid3)\n",
    "\n",
    "topfirst3 =    [7,None,None,5,None,7,None]\n",
    "bottomfirst3 = [None,7,None,3,None,None,5]\n",
    "leftfirst3 =   [None,None,None,7,None,None,None]\n",
    "rightfirst3 =  [None,None,None,5,None,None,None]"
   ]
  },
  {
   "cell_type": "code",
   "execution_count": 5,
   "metadata": {},
   "outputs": [
    {
     "name": "stdout",
     "output_type": "stream",
     "text": [
      "[[nan nan nan nan nan nan nan]\n",
      " [nan nan nan nan nan nan nan]\n",
      " [nan nan nan nan nan nan  3.]\n",
      " [nan nan nan nan nan nan nan]\n",
      " [nan nan nan nan  4. nan nan]\n",
      " [nan nan nan nan nan nan nan]\n",
      " [nan nan  3. nan nan nan nan]]\n"
     ]
    }
   ],
   "source": [
    "grid4 = [[np.nan,np.nan,np.nan,np.nan,np.nan,np.nan,np.nan],\n",
    "         [np.nan,np.nan,np.nan,np.nan,np.nan,np.nan,np.nan],\n",
    "         [np.nan,np.nan,np.nan,np.nan,np.nan,np.nan,3],\n",
    "         [np.nan,np.nan,np.nan,np.nan,np.nan,np.nan,np.nan],\n",
    "         [np.nan,np.nan,np.nan,np.nan,4,np.nan,np.nan],\n",
    "         [np.nan,np.nan,np.nan,np.nan,np.nan,np.nan,np.nan],\n",
    "         [np.nan,np.nan,3,np.nan,np.nan,np.nan,np.nan]]\n",
    "grid4 = np.matrix(grid4)\n",
    "print(grid4)\n",
    "\n",
    "topfirst4 =    [None,None,None,None,None,None,None]\n",
    "bottomfirst4 = [None,6,None,5,None,4,None]\n",
    "leftfirst4 =   [1,2,3,4,5,6,7]\n",
    "rightfirst4 =  [None,6,None,4,None,2,None]"
   ]
  },
  {
   "cell_type": "code",
   "execution_count": 6,
   "metadata": {},
   "outputs": [],
   "source": [
    "def possible(yn,xn,n,originalgrid,topfirst,bottomfirst,leftfirst,rightfirst):    \n",
    "        \n",
    "    #Create a copy of the original grid\n",
    "    grid = deepcopy(originalgrid)\n",
    "    \n",
    "    #Insert new val\n",
    "    grid.itemset((yn, xn), n)\n",
    "    \n",
    "    #If there are no nan, check sum of row and col\n",
    "    if not np.isnan(grid[yn]).any():\n",
    "        if grid[yn].sum() != 20:\n",
    "            return False\n",
    "    \n",
    "\n",
    "    if not np.isnan(grid[:,xn]).any():\n",
    "        if grid[:,xn].sum() != 20:\n",
    "            return False\n",
    "        \n",
    "    #Check if new val is allowed by top/bottom/left/right first\n",
    "    if topfirst[xn] != None:\n",
    "        for el in grid[:,xn]:\n",
    "            if np.isnan(el) or el == topfirst[xn]:\n",
    "                break\n",
    "            elif el == 0:\n",
    "                continue\n",
    "            else:\n",
    "                return False\n",
    "            \n",
    "    if bottomfirst[xn] != None:\n",
    "        for el in reversed(grid[:,xn]):\n",
    "            if np.isnan(el) or el == bottomfirst[xn]:\n",
    "                break\n",
    "            elif el == 0:\n",
    "                continue\n",
    "            else:\n",
    "                return False\n",
    "            \n",
    "    if leftfirst[yn] != None:\n",
    "        for el in grid[yn].T:\n",
    "            if np.isnan(el) or el == leftfirst[yn]:\n",
    "                break\n",
    "            elif el == 0:\n",
    "                continue\n",
    "            else:\n",
    "                return False\n",
    "            \n",
    "    if rightfirst[yn] != None:\n",
    "        for el in reversed(grid[yn].T):\n",
    "            if np.isnan(el) or el == rightfirst[yn]:\n",
    "                break\n",
    "            elif el == 0:\n",
    "                continue\n",
    "            else:\n",
    "                return False\n",
    "        \n",
    "    #After the first checks for nan, replace nan with zeros\n",
    "    grid[np.isnan(grid)] = 0\n",
    "    grid = grid.astype(int)\n",
    "    \n",
    "    #Putting a zeros is almost always ok\n",
    "    if n == 0:\n",
    "        return True\n",
    "    \n",
    "    #Check if there are no more than n val equal to n\n",
    "    if np.count_nonzero(grid == n) > n:\n",
    "        return False\n",
    "    \n",
    "    #Check if new val creates row / col with sum 20 and count 4 \n",
    "    if grid[yn].sum() > 20 or np.count_nonzero(grid[yn]) > 4:\n",
    "        return False\n",
    "    if grid[:,xn].sum() > 20 or np.count_nonzero(grid[:,xn]) > 4:\n",
    "        return False\n",
    "    \n",
    "    #Check neighbouring squares\n",
    "    grid = grid.tolist()\n",
    "    try: #Top left square\n",
    "        topleftcorner = grid[yn-1][xn-1]\n",
    "        top = grid[yn-1][xn]\n",
    "        left = grid[yn][xn-1]\n",
    "        if topleftcorner != 0 and top != 0 and left != 0:\n",
    "            return False\n",
    "    except IndexError:\n",
    "        pass\n",
    "    \n",
    "    try: #Top right square\n",
    "        toprightcorner = grid[yn-1][xn+1]\n",
    "        top = grid[yn-1][xn]\n",
    "        right = grid[yn][xn+1]\n",
    "        if toprightcorner != 0 and top != 0 and right != 0:\n",
    "            return False\n",
    "    except IndexError:\n",
    "        pass\n",
    "    \n",
    "    try: #Bottom left square\n",
    "        bottomleftcorner = grid[yn+1][xn-1]\n",
    "        bottom = grid[yn+1][xn]\n",
    "        left = grid[yn][xn-1]\n",
    "        if bottomleftcorner != 0 and bottom != 0 and left != 0:\n",
    "            return False\n",
    "    except IndexError:\n",
    "        pass\n",
    "    \n",
    "    try: #Bottom right square\n",
    "        bottomrightcorner = grid[yn+1][xn+1]\n",
    "        bottom = grid[yn+1][xn]\n",
    "        left = grid[yn][xn+1]\n",
    "        if bottomrightcorner != 0 and bottom != 0 and right != 0:\n",
    "            return False\n",
    "    except IndexError:\n",
    "        pass \n",
    "        \n",
    "    #If the number passes all selections return True\n",
    "    return True    "
   ]
  },
  {
   "cell_type": "code",
   "execution_count": 7,
   "metadata": {},
   "outputs": [],
   "source": [
    "def solve(grid,topfirst,bottomfirst,leftfirst,rightfirst):\n",
    "    \n",
    "    for y in range(7):\n",
    "        for x in range(7):\n",
    "            if np.isnan(grid.item((y,x))):\n",
    "                for n in reversed(range(0,8)):\n",
    "                    if possible(y,x,n,grid,topfirst,bottomfirst,leftfirst,rightfirst):\n",
    "                        grid.itemset((y, x), n)\n",
    "                        sol = solve(grid,topfirst,bottomfirst,leftfirst,rightfirst)\n",
    "                        try:\n",
    "                            if sol == None:\n",
    "                                pass\n",
    "                        except ValueError:\n",
    "                            return sol  \n",
    "                        grid.itemset((y, x), np.nan)\n",
    "                return \n",
    "    \n",
    "    #Check whether the grid is a fully-connected island\n",
    "    _ , numberfeatures = ndimage.label(grid)\n",
    "    if numberfeatures == 1:\n",
    "        return grid"
   ]
  },
  {
   "cell_type": "code",
   "execution_count": 8,
   "metadata": {},
   "outputs": [
    {
     "name": "stdout",
     "output_type": "stream",
     "text": [
      "[[5. 4. 4. 0. 0. 7. 0.]\n",
      " [0. 0. 7. 6. 3. 4. 0.]\n",
      " [5. 6. 2. 0. 7. 0. 0.]\n",
      " [0. 3. 0. 0. 6. 6. 5.]\n",
      " [5. 7. 0. 6. 0. 0. 2.]\n",
      " [5. 0. 7. 1. 0. 0. 7.]\n",
      " [0. 0. 0. 7. 4. 3. 6.]]\n"
     ]
    }
   ],
   "source": [
    "g1 = deepcopy(grid1)\n",
    "sol1 = solve(g1,topfirst1,bottomfirst1,leftfirst1,rightfirst1)\n",
    "print(sol1)"
   ]
  },
  {
   "cell_type": "code",
   "execution_count": 9,
   "metadata": {
    "scrolled": true
   },
   "outputs": [
    {
     "name": "stdout",
     "output_type": "stream",
     "text": [
      "[[7. 2. 5. 6. 0. 0. 0.]\n",
      " [2. 0. 0. 5. 7. 6. 0.]\n",
      " [5. 7. 4. 0. 0. 4. 0.]\n",
      " [0. 0. 6. 0. 4. 3. 7.]\n",
      " [6. 4. 0. 0. 3. 0. 7.]\n",
      " [0. 7. 5. 3. 0. 0. 5.]\n",
      " [0. 0. 0. 6. 6. 7. 1.]]\n"
     ]
    }
   ],
   "source": [
    "g2 = deepcopy(grid2)\n",
    "sol2 = solve(g2,topfirst2,bottomfirst2,leftfirst2,rightfirst2)\n",
    "print(sol2)"
   ]
  },
  {
   "cell_type": "code",
   "execution_count": 10,
   "metadata": {},
   "outputs": [
    {
     "name": "stdout",
     "output_type": "stream",
     "text": [
      "[[7. 2. 0. 0. 4. 7. 0.]\n",
      " [0. 6. 7. 5. 2. 0. 0.]\n",
      " [4. 5. 0. 5. 0. 0. 6.]\n",
      " [0. 0. 0. 7. 7. 1. 5.]\n",
      " [6. 7. 3. 0. 0. 0. 4.]\n",
      " [3. 0. 6. 0. 0. 6. 5.]\n",
      " [0. 0. 4. 3. 7. 6. 0.]]\n"
     ]
    }
   ],
   "source": [
    "g3 = deepcopy(grid3)\n",
    "sol3 = solve(g3,topfirst3,bottomfirst3,leftfirst3,rightfirst3)\n",
    "print(sol3)"
   ]
  },
  {
   "cell_type": "code",
   "execution_count": 11,
   "metadata": {},
   "outputs": [
    {
     "name": "stdout",
     "output_type": "stream",
     "text": [
      "[[0. 0. 0. 1. 5. 7. 7.]\n",
      " [0. 2. 5. 7. 0. 0. 6.]\n",
      " [3. 7. 0. 7. 0. 0. 3.]\n",
      " [4. 0. 0. 0. 5. 7. 4.]\n",
      " [0. 5. 6. 5. 4. 0. 0.]\n",
      " [6. 0. 6. 0. 6. 2. 0.]\n",
      " [7. 6. 3. 0. 0. 4. 0.]]\n"
     ]
    }
   ],
   "source": [
    "g4 = deepcopy(grid4)\n",
    "sol4 = solve(g4,topfirst4,bottomfirst4,leftfirst4,rightfirst4)\n",
    "print(sol4)"
   ]
  },
  {
   "cell_type": "code",
   "execution_count": 12,
   "metadata": {},
   "outputs": [
    {
     "name": "stdout",
     "output_type": "stream",
     "text": [
      "[[19.  8.  9.  7.  9. 21.  7.]\n",
      " [ 2.  8. 19. 23. 12. 10.  6.]\n",
      " [17. 25.  6. 12.  7.  4.  9.]\n",
      " [ 4.  3.  6.  7. 22. 17. 21.]\n",
      " [17. 23.  9. 11.  7.  0. 13.]\n",
      " [14.  7. 24.  4.  6.  8. 17.]\n",
      " [ 7.  6.  7. 16. 17. 20.  7.]]\n"
     ]
    }
   ],
   "source": [
    "solution = sol1 + sol2 + sol3 + sol4\n",
    "print(solution)"
   ]
  },
  {
   "cell_type": "code",
   "execution_count": 13,
   "metadata": {},
   "outputs": [
    {
     "name": "stdout",
     "output_type": "stream",
     "text": [
      "8520.0\n"
     ]
    }
   ],
   "source": [
    "tot = 0\n",
    "for y in range(7):\n",
    "    for x in range(7):\n",
    "        tot += pow(solution.item(y,x),2)\n",
    "print(tot)"
   ]
  },
  {
   "cell_type": "code",
   "execution_count": null,
   "metadata": {},
   "outputs": [],
   "source": []
  }
 ],
 "metadata": {
  "kernelspec": {
   "display_name": "Python 3",
   "language": "python",
   "name": "python3"
  },
  "language_info": {
   "codemirror_mode": {
    "name": "ipython",
    "version": 3
   },
   "file_extension": ".py",
   "mimetype": "text/x-python",
   "name": "python",
   "nbconvert_exporter": "python",
   "pygments_lexer": "ipython3",
   "version": "3.6.2"
  }
 },
 "nbformat": 4,
 "nbformat_minor": 2
}
