{
  "cells": [
    {
      "cell_type": "markdown",
      "metadata": {
        "id": "view-in-github",
        "colab_type": "text"
      },
      "source": [
        "<a href=\"https://colab.research.google.com/github/lambroz/Jane-Street-Puzzles/blob/master/KnightMoves6.ipynb\" target=\"_parent\"><img src=\"https://colab.research.google.com/assets/colab-badge.svg\" alt=\"Open In Colab\"/></a>"
      ]
    },
    {
      "cell_type": "code",
      "execution_count": null,
      "metadata": {
        "id": "K80FTUaY7aej"
      },
      "outputs": [],
      "source": [
        "import time\n",
        "import numpy\n",
        "import numba\n",
        "import itertools\n",
        "import collections"
      ]
    },
    {
      "cell_type": "code",
      "execution_count": null,
      "metadata": {
        "id": "NtuMsbA93mRM"
      },
      "outputs": [],
      "source": [
        "def generate_board(A, B, C):\n",
        "    board = numpy.array([[A, B, B, C, C, C],\n",
        "                         [A, B, B, C, C, C],\n",
        "                         [A, A, B, B, C, C],\n",
        "                         [A, A, B, B, C, C],\n",
        "                         [A, A, A, B, B, C],\n",
        "                         [A, A, A, B, B, C]])\n",
        "    return board"
      ]
    },
    {
      "cell_type": "code",
      "execution_count": null,
      "metadata": {
        "id": "ZwyO1dNu4LIS"
      },
      "outputs": [],
      "source": [
        "board = generate_board(1,2,3)"
      ]
    },
    {
      "cell_type": "code",
      "execution_count": null,
      "metadata": {
        "colab": {
          "base_uri": "https://localhost:8080/"
        },
        "id": "Cz2qbDIq8sOU",
        "outputId": "f8d6b146-5521-4e2d-e5a1-07b017a0f731"
      },
      "outputs": [
        {
          "data": {
            "text/plain": [
              "array([[1, 2, 2, 3, 3, 3],\n",
              "       [1, 2, 2, 3, 3, 3],\n",
              "       [1, 1, 2, 2, 3, 3],\n",
              "       [1, 1, 2, 2, 3, 3],\n",
              "       [1, 1, 1, 2, 2, 3],\n",
              "       [1, 1, 1, 2, 2, 3]])"
            ]
          },
          "execution_count": 4,
          "metadata": {},
          "output_type": "execute_result"
        }
      ],
      "source": [
        "board"
      ]
    },
    {
      "cell_type": "code",
      "execution_count": null,
      "metadata": {
        "colab": {
          "base_uri": "https://localhost:8080/"
        },
        "id": "ta1Qmhmt8m47",
        "outputId": "034720c3-ad9a-4ebf-d18d-af57a2e857f8"
      },
      "outputs": [
        {
          "data": {
            "text/plain": [
              "array([[1, 1, 1, 1, 1, 1],\n",
              "       [1, 1, 1, 1, 2, 2],\n",
              "       [1, 1, 2, 2, 2, 2],\n",
              "       [2, 2, 2, 2, 3, 3],\n",
              "       [2, 2, 3, 3, 3, 3],\n",
              "       [3, 3, 3, 3, 3, 3]])"
            ]
          },
          "execution_count": 5,
          "metadata": {},
          "output_type": "execute_result"
        }
      ],
      "source": [
        "# If I rotate the board by 90 degrees clockwise, I can recycle the paths\n",
        "numpy.rot90(board, k=3)"
      ]
    },
    {
      "cell_type": "code",
      "execution_count": null,
      "metadata": {
        "id": "x-mO1RtBp2Ne"
      },
      "outputs": [],
      "source": [
        "def rotate_element_90_cw(board, x, y):\n",
        "    n = board.shape[0]\n",
        "    new_x = n - 1 - y\n",
        "    new_y = x\n",
        "    return (new_x, new_y)"
      ]
    },
    {
      "cell_type": "markdown",
      "metadata": {
        "id": "fRuzIEnMvgM5"
      },
      "source": [
        "# Search for paths"
      ]
    },
    {
      "cell_type": "code",
      "execution_count": null,
      "metadata": {
        "id": "Z9bk_yrSRTEP"
      },
      "outputs": [],
      "source": [
        "def knight_paths(board_size=6, max_path_length = 36, min_path_length = 0):\n",
        "\n",
        "    def is_valid_move(x, y):\n",
        "        return 0 <= x < board_size and 0 <= y < board_size\n",
        "\n",
        "    def backtrack(x, y, path, max_path_length, min_path_length):\n",
        "\n",
        "        if len(path) > max_path_length:\n",
        "            return\n",
        "\n",
        "        elif (x, y) == (board_size-1, board_size-1):\n",
        "          if min_path_length <= len(path):\n",
        "            paths.append(path)\n",
        "          else:\n",
        "            return\n",
        "\n",
        "        else:\n",
        "            knight_moves = [\n",
        "                (-2, -1), (-2, 1), (-1, -2), (-1, 2),\n",
        "                (1, -2), (1, 2), (2, -1), (2, 1)\n",
        "            ]\n",
        "\n",
        "            for dx, dy in knight_moves:\n",
        "                next_x, next_y = x + dx, y + dy\n",
        "                if is_valid_move(next_x, next_y) and (next_x, next_y) not in path:\n",
        "                    backtrack(next_x, next_y, path + [(next_x, next_y)], max_path_length, min_path_length)\n",
        "\n",
        "    paths = []\n",
        "\n",
        "    backtrack(0, 0, [(0, 0)], max_path_length, min_path_length)\n",
        "\n",
        "    return paths"
      ]
    },
    {
      "cell_type": "code",
      "execution_count": null,
      "metadata": {
        "id": "1hTaAFBCq3IJ"
      },
      "outputs": [],
      "source": [
        "# Same function as above, just faster\n",
        "\n",
        "@numba.njit\n",
        "def is_valid_move(x, y, board_size):\n",
        "    return 0 <= x < board_size and 0 <= y < board_size\n",
        "\n",
        "@numba.njit\n",
        "def backtrack(x, y, path, paths, visited, board_size, path_length, max_path_length, min_path_length):\n",
        "    # Check if the path length exceeds the maximum allowed length\n",
        "    if len(path) > max_path_length:\n",
        "        return path_length\n",
        "\n",
        "    # Check if we've reached the bottom-right corner\n",
        "    if (x, y) == (board_size - 1, board_size - 1):\n",
        "        # Store the path in the paths array\n",
        "        if len(path) >= min_path_length:\n",
        "          for i in range(len(path)):\n",
        "              paths[path_length, i, 0] = path[i][0]\n",
        "              paths[path_length, i, 1] = path[i][1]\n",
        "          return path_length + 1  # Increment the count of good paths that have been found\n",
        "        else:\n",
        "          return path_length\n",
        "    else:\n",
        "        # Define the possible knight moves\n",
        "        knight_moves = [\n",
        "            (-2, -1), (-2, 1), (-1, -2), (-1, 2),\n",
        "            (1, -2), (1, 2), (2, -1), (2, 1)\n",
        "        ]\n",
        "        for dx, dy in knight_moves:\n",
        "            next_x, next_y = x + dx, y + dy\n",
        "            if is_valid_move(next_x, next_y, board_size) and not visited[next_x, next_y]:\n",
        "                visited[next_x, next_y] = True\n",
        "                path.append((next_x, next_y))\n",
        "                path_length = backtrack(next_x, next_y, path, paths, visited, board_size, path_length, max_path_length, min_path_length)\n",
        "                path.pop()  # Backtrack\n",
        "                visited[next_x, next_y] = False\n",
        "        return path_length\n",
        "\n",
        "@numba.njit\n",
        "def knight_paths_njit(board_size=6, max_path_length=36, min_path_length=0):\n",
        "    max_paths = 100_000_000  # Set a maximum number of paths\n",
        "    max_path_storage = max_path_length  # Maximum path length that could be stored\n",
        "    paths = numpy.empty((max_paths, max_path_storage, 2), dtype=numpy.int64)  # Preallocate space for paths\n",
        "    visited = numpy.zeros((board_size, board_size), dtype=numpy.bool_)\n",
        "    visited[0, 0] = True\n",
        "    path = [(0, 0)]\n",
        "    path_length = 0\n",
        "    path_length = backtrack(0, 0, path, paths, visited, board_size, path_length, max_path_length, min_path_length)\n",
        "    return paths[:path_length]  # Return only the valid paths, the remaining paths are empty"
      ]
    },
    {
      "cell_type": "code",
      "execution_count": null,
      "metadata": {
        "colab": {
          "base_uri": "https://localhost:8080/"
        },
        "id": "kZevueOT17kb",
        "outputId": "e283bac9-563b-4738-dcdd-c7dae1fe3e1a"
      },
      "outputs": [
        {
          "name": "stdout",
          "output_type": "stream",
          "text": [
            "For a board 6x6, number of paths found = 629294, in 22.798808574676514s\n"
          ]
        }
      ],
      "source": [
        "BOARD_SIZE = 6\n",
        "\n",
        "t0 = time.time()\n",
        "#paths = knight_paths(board_size=BOARD_SIZE, max_path_length=12, min_path_length=8)\n",
        "paths = knight_paths_njit(board_size=BOARD_SIZE, max_path_length=15, min_path_length=15)\n",
        "t1 = time.time()\n",
        "\n",
        "print(f'For a board {BOARD_SIZE}x{BOARD_SIZE}, number of paths found = {len(paths)}, in {t1-t0}s')"
      ]
    },
    {
      "cell_type": "markdown",
      "metadata": {
        "id": "KL22usVAvbaE"
      },
      "source": [
        "# Test paths"
      ]
    },
    {
      "cell_type": "code",
      "execution_count": null,
      "metadata": {
        "id": "J0eCYpgf_3Pj"
      },
      "outputs": [],
      "source": [
        "def score(path, board):\n",
        "\n",
        "    # First element is the starting point\n",
        "    x, y = path[0]\n",
        "    score = board[x, y]\n",
        "    previous_element = board[x, y]\n",
        "\n",
        "    for x, y in path[1:]:\n",
        "        current_element = board[x, y]\n",
        "        if current_element == previous_element:\n",
        "            score += current_element\n",
        "        else:\n",
        "            score *= current_element\n",
        "        previous_element = current_element\n",
        "\n",
        "    return score"
      ]
    },
    {
      "cell_type": "code",
      "execution_count": null,
      "metadata": {
        "id": "ucnGWiRTttc1"
      },
      "outputs": [],
      "source": [
        "def chess_notation_to_matrix_postion(s):\n",
        "  return 6 - int(s[1]), ord(s[0]) - 97"
      ]
    },
    {
      "cell_type": "code",
      "execution_count": null,
      "metadata": {
        "id": "2BtkBpUGtn_1"
      },
      "outputs": [],
      "source": [
        "def matrix_position_to_chess_notation(x, y):\n",
        "    rank = str(6 - x)\n",
        "    f = chr(y + 97)\n",
        "    return f + rank"
      ]
    },
    {
      "cell_type": "code",
      "execution_count": null,
      "metadata": {
        "id": "dH4eIwKqE4dm"
      },
      "outputs": [],
      "source": [
        "GOAL = 2024"
      ]
    },
    {
      "cell_type": "code",
      "execution_count": null,
      "metadata": {
        "id": "ZFvnsfuX1_V_"
      },
      "outputs": [],
      "source": [
        "def find_trip(test_triplet, paths):\n",
        "\n",
        "  for triplet in itertools.permutations(test_triplet):\n",
        "\n",
        "    A, B, C = triplet\n",
        "\n",
        "    board = generate_board(A, B, C)\n",
        "    rotated_board = numpy.rot90(board, k=3)\n",
        "\n",
        "    trip_one = None\n",
        "    trip_two = None\n",
        "\n",
        "    for path in paths:\n",
        "\n",
        "      if trip_one is None:\n",
        "        if score(path, rotated_board) == GOAL:\n",
        "          trip_one = [rotate_element_90_cw(board, x, y) for x, y in path] # Rotate back\n",
        "\n",
        "      if trip_two is None:\n",
        "        if score(path, board) == GOAL:\n",
        "          trip_two = path.tolist()\n",
        "\n",
        "      if trip_one is not None and trip_two is not None:\n",
        "        print(f'Good triplet: {triplet}')\n",
        "        print(f'Found trip 1: {trip_one}')\n",
        "        print(f'Found trip 2: {trip_two}')\n",
        "        answer = f'{A},{B},{C},' + ','.join([matrix_position_to_chess_notation(x, y) for x, y in trip_one]) + ',' + ','.join([matrix_position_to_chess_notation(x, y) for x, y in trip_two])\n",
        "        print(answer)\n",
        "        return answer\n",
        "\n",
        "    print(f'No good triplets found for {triplet}')"
      ]
    },
    {
      "cell_type": "code",
      "execution_count": null,
      "metadata": {
        "colab": {
          "base_uri": "https://localhost:8080/"
        },
        "id": "Xb7yRoPFpbgL",
        "outputId": "18400844-dc0a-4dda-80ef-c00056112edc"
      },
      "outputs": [
        {
          "name": "stdout",
          "output_type": "stream",
          "text": [
            "No good triplets found for (1, 2, 3)\n",
            "Good triplet: (1, 3, 2)\n",
            "Found trip 1: [(5, 0), (3, 1), (1, 0), (2, 2), (3, 0), (1, 1), (0, 3), (2, 4), (1, 2), (0, 4), (2, 3), (0, 2), (2, 1), (1, 3), (0, 5)]\n",
            "Found trip 2: [[0, 0], [1, 2], [0, 4], [2, 3], [3, 1], [4, 3], [2, 4], [0, 5], [1, 3], [0, 1], [2, 0], [3, 2], [5, 3], [3, 4], [5, 5]]\n",
            "1,3,2,a1,b3,a5,c4,a3,b5,d6,e4,c5,e6,d4,c6,b4,d5,f6,a6,c5,e6,d4,b3,d2,e4,f6,d5,b6,a4,c3,d1,e3,f1\n"
          ]
        }
      ],
      "source": [
        "test_triplet = [1, 2, 3] # This is the smallest triplet, potential 'best_trip'\n",
        "answer = find_trip(test_triplet, paths)"
      ]
    },
    {
      "cell_type": "markdown",
      "metadata": {
        "id": "jM1Uta0xvW7O"
      },
      "source": [
        "# Validation"
      ]
    },
    {
      "cell_type": "code",
      "execution_count": null,
      "metadata": {
        "id": "rVaFsG2sgG29"
      },
      "outputs": [],
      "source": [
        "def score_string(s):\n",
        "  l = s.split(',')\n",
        "  A, B, C = int(l[0]), int(l[1]), int(l[2])\n",
        "  board = generate_board(A, B, C)\n",
        "\n",
        "  trip_one = []\n",
        "  trip_two = []\n",
        "\n",
        "  fill_trip_one = True\n",
        "  for position in l[3:]:\n",
        "\n",
        "    if position == 'a6':\n",
        "      fill_trip_one = False\n",
        "\n",
        "    matrix_postion = chess_notation_to_matrix_postion(position)\n",
        "    if fill_trip_one:\n",
        "      trip_one.append(matrix_postion)\n",
        "    else:\n",
        "      trip_two.append(matrix_postion)\n",
        "\n",
        "  print(f'Trip one: {trip_one}')\n",
        "  print(f'Trip two: {trip_two}')\n",
        "  print(f'Trip one score: {score(trip_one, board)}')\n",
        "  print(f'Trip two score: {score(trip_two, board)}')"
      ]
    },
    {
      "cell_type": "code",
      "execution_count": null,
      "metadata": {
        "colab": {
          "base_uri": "https://localhost:8080/"
        },
        "id": "CJ2qAtx6ZXxm",
        "outputId": "5a7c1aaa-f1e5-48a6-87a4-2a57ec56241c"
      },
      "outputs": [
        {
          "name": "stdout",
          "output_type": "stream",
          "text": [
            "Trip one: [(5, 0), (3, 1), (1, 2), (3, 3), (2, 5), (1, 3), (0, 5)]\n",
            "Trip two: [(0, 0), (1, 2), (2, 0), (4, 1), (2, 2), (4, 3), (5, 5)]\n",
            "Trip one score: 2024\n",
            "Trip two score: 2024\n"
          ]
        }
      ],
      "source": [
        "test_input = '1,2,253,a1,b3,c5,d3,f4,d5,f6,a6,c5,a4,b2,c4,d2,f1'\n",
        "score_string(test_input)"
      ]
    },
    {
      "cell_type": "code",
      "execution_count": null,
      "metadata": {
        "colab": {
          "base_uri": "https://localhost:8080/"
        },
        "id": "3pPvG8IaZfP0",
        "outputId": "681c55dd-fbe1-4b8e-d4b7-e7039f1c79aa"
      },
      "outputs": [
        {
          "name": "stdout",
          "output_type": "stream",
          "text": [
            "Trip one: [(5, 0), (3, 1), (1, 0), (2, 2), (3, 0), (1, 1), (0, 3), (2, 4), (1, 2), (0, 4), (2, 3), (0, 2), (2, 1), (1, 3), (0, 5)]\n",
            "Trip two: [(0, 0), (1, 2), (0, 4), (2, 3), (3, 1), (4, 3), (2, 4), (0, 5), (1, 3), (0, 1), (2, 0), (3, 2), (5, 3), (3, 4), (5, 5)]\n",
            "Trip one score: 2024\n",
            "Trip two score: 2024\n"
          ]
        }
      ],
      "source": [
        "score_string(answer)"
      ]
    },
    {
      "cell_type": "code",
      "execution_count": null,
      "metadata": {
        "id": "DITNl8nVvPsv"
      },
      "outputs": [],
      "source": []
    }
  ],
  "metadata": {
    "colab": {
      "provenance": [],
      "include_colab_link": true
    },
    "kernelspec": {
      "display_name": "Python 3",
      "name": "python3"
    },
    "language_info": {
      "name": "python"
    }
  },
  "nbformat": 4,
  "nbformat_minor": 0
}